{
 "cells": [
  {
   "cell_type": "markdown",
   "metadata": {},
   "source": [
    "## Logistic Regression using Scikit-Learn\n",
    "\n",
    "In this tutorial, we will implement Logistic Regression using Scikit-Learn.\n",
    "\n",
    "So, let's get started. \n",
    "\n",
    "\n",
    "### Step-1 Import Dependencies\n",
    "\n",
    "#### numpy: \n",
    "for numerical calculations\n",
    "\n",
    "#### pandas: \n",
    "for data modelling and access data from files\n",
    "\n",
    "#### sklearn.preprocessing: \n",
    "Preprocessing data, scaling data points to bring all data points to same scale for easy calculations.\n",
    "\n",
    "#### sklearn.model_selection:  \n",
    "for cross validation, divide data into testing and training set.\n",
    "\n",
    "#### sklearn.linear_model.LogisticRegression: \n",
    "Logistic Regression Classifier.\n",
    "\n",
    "#### sklearn.metrics.accuracy_score: \n",
    "to calculate accuracy score of the classifier.\n",
    "\n",
    "#### matplotlib:  \n",
    "to plot data"
   ]
  },
  {
   "cell_type": "code",
   "execution_count": 16,
   "metadata": {
    "collapsed": true
   },
   "outputs": [],
   "source": [
    "# Import Dependecies\n",
    "\n",
    "import pandas as pd\n",
    "import numpy as np\n",
    "from sklearn import preprocessing, model_selection, linear_model\n",
    "from sklearn.metrics import accuracy_score,confusion_matrix\n",
    "import seaborn as sns\n",
    "import matplotlib.pyplot as plt\n",
    "%matplotlib inline"
   ]
  },
  {
   "cell_type": "markdown",
   "metadata": {},
   "source": [
    "### Step-2: Load Dataset\n",
    "\n",
    "Now that we are ready with our dependecies, it's time to load our dataset.\n",
    "\n",
    "This time we'll be using \"Wisconsin Breast Cancer Dataset\". You can download the dataset from the dataset folder from the Github repository or download from this link [https://archive.ics.uci.edu/ml/datasets/breast+cancer+wisconsin+(original)]\n",
    "\n",
    "Let's have a look at our data.\n",
    "\n",
    "This dataset has the following attributes:\n",
    "1. Sample code number            id number\n",
    "2. Clump Thickness               1 - 10\n",
    "3. Uniformity of Cell Size       1 - 10\n",
    "4. Uniformity of Cell Shape      1 - 10\n",
    "5. Marginal Adhesion             1 - 10\n",
    "6. Single Epithelial Cell Size   1 - 10\n",
    "7. Bare Nuclei                   1 - 10\n",
    "8. Bland Chromatin               1 - 10\n",
    "9. Normal Nucleoli               1 - 10\n",
    "10. Mitoses                       1 - 10\n",
    "11. Class:                        (2 for benign, 4 for malignant)\n",
    "\n",
    "It has 11 features. These features contribute together to tell whether the tumor is \"Malignant : 4\" or \"Benign : 2\".\n",
    "\n",
    "Let's load the data and get some insight into it."
   ]
  },
  {
   "cell_type": "code",
   "execution_count": 17,
   "metadata": {
    "collapsed": true
   },
   "outputs": [],
   "source": [
    "# Load Data\n",
    "\n",
    "df = pd.read_csv('dataset/breast-cancer-wisconsin-data.csv')"
   ]
  },
  {
   "cell_type": "code",
   "execution_count": 18,
   "metadata": {},
   "outputs": [
    {
     "name": "stdout",
     "output_type": "stream",
     "text": [
      "   1000025  5   1  1.1  1.2  2 1.3  3  1.4  1.5  2.1\n",
      "0  1002945  5   4    4    5  7  10  3    2    1    2\n",
      "1  1015425  3   1    1    1  2   2  3    1    1    2\n",
      "2  1016277  6   8    8    1  3   4  3    7    1    2\n",
      "3  1017023  4   1    1    3  2   1  3    1    1    2\n",
      "4  1017122  8  10   10    8  7  10  9    7    1    4\n"
     ]
    }
   ],
   "source": [
    "# Let's have a look at the data\n",
    "# Let's print first 5 row values from data.\n",
    "\n",
    "print(df.head())"
   ]
  },
  {
   "cell_type": "markdown",
   "metadata": {},
   "source": [
    "### Step-3: Adding Names to Dataset\n",
    "\n",
    "As we can see that the data does not have any name for the column. So, either we can add the names to the data in csv file itself or go the second way.\n",
    "\n",
    "I will be explaining the second way here. Let's see."
   ]
  },
  {
   "cell_type": "code",
   "execution_count": 19,
   "metadata": {
    "collapsed": true
   },
   "outputs": [],
   "source": [
    "# Load data with Column names\n",
    "# Here we provide the names for each Column.\n",
    "\n",
    "df = pd.read_csv('dataset/breast-cancer-wisconsin-data.csv', names=['id', 'clump_thickness','unif_cell_size',\n",
    "                                                                           'unif_cell_shape', 'marg_adhesion', 'single_epith_cell_size',\n",
    "                                                                           'bare_nuclei', 'bland_chromatin', 'normal_nucleoli','mitoses','class'])"
   ]
  },
  {
   "cell_type": "code",
   "execution_count": 20,
   "metadata": {},
   "outputs": [
    {
     "name": "stdout",
     "output_type": "stream",
     "text": [
      "        id  clump_thickness  unif_cell_size  unif_cell_shape  marg_adhesion  \\\n",
      "0  1000025                5               1                1              1   \n",
      "1  1002945                5               4                4              5   \n",
      "2  1015425                3               1                1              1   \n",
      "3  1016277                6               8                8              1   \n",
      "4  1017023                4               1                1              3   \n",
      "\n",
      "   single_epith_cell_size bare_nuclei  bland_chromatin  normal_nucleoli  \\\n",
      "0                       2           1                3                1   \n",
      "1                       7          10                3                2   \n",
      "2                       2           2                3                1   \n",
      "3                       3           4                3                7   \n",
      "4                       2           1                3                1   \n",
      "\n",
      "   mitoses  class  \n",
      "0        1      2  \n",
      "1        1      2  \n",
      "2        1      2  \n",
      "3        1      2  \n",
      "4        1      2  \n"
     ]
    }
   ],
   "source": [
    "# Let's check the data again\n",
    "\n",
    "print(df.head())"
   ]
  },
  {
   "cell_type": "markdown",
   "metadata": {},
   "source": [
    "Perfect. Now we atleast have some names to refer to while processing the data.\n",
    "\n",
    "### Step-4 Feature Selection\n",
    "\n",
    "Now, since we have a lot of features i.e. each column is a feature. Hence, we need to find out which features are the most informative i.e. which features selected will lead to maximizing accuracy.\n",
    "\n",
    "* Correlation:\n",
    "Let's check the correlation between the data points of different features."
   ]
  },
  {
   "cell_type": "code",
   "execution_count": 21,
   "metadata": {},
   "outputs": [
    {
     "name": "stdout",
     "output_type": "stream",
     "text": [
      "                              id  clump_thickness  unif_cell_size  \\\n",
      "id                      1.000000        -0.055308       -0.041603   \n",
      "clump_thickness        -0.055308         1.000000        0.644913   \n",
      "unif_cell_size         -0.041603         0.644913        1.000000   \n",
      "unif_cell_shape        -0.041576         0.654589        0.906882   \n",
      "marg_adhesion          -0.064878         0.486356        0.705582   \n",
      "single_epith_cell_size -0.045528         0.521816        0.751799   \n",
      "bland_chromatin        -0.060051         0.558428        0.755721   \n",
      "normal_nucleoli        -0.052072         0.535835        0.722865   \n",
      "mitoses                -0.034901         0.350034        0.458693   \n",
      "class                  -0.080226         0.716001        0.817904   \n",
      "\n",
      "                        unif_cell_shape  marg_adhesion  \\\n",
      "id                            -0.041576      -0.064878   \n",
      "clump_thickness                0.654589       0.486356   \n",
      "unif_cell_size                 0.906882       0.705582   \n",
      "unif_cell_shape                1.000000       0.683079   \n",
      "marg_adhesion                  0.683079       1.000000   \n",
      "single_epith_cell_size         0.719668       0.599599   \n",
      "bland_chromatin                0.735948       0.666715   \n",
      "normal_nucleoli                0.719446       0.603352   \n",
      "mitoses                        0.438911       0.417633   \n",
      "class                          0.818934       0.696800   \n",
      "\n",
      "                        single_epith_cell_size  bland_chromatin  \\\n",
      "id                                   -0.045528        -0.060051   \n",
      "clump_thickness                       0.521816         0.558428   \n",
      "unif_cell_size                        0.751799         0.755721   \n",
      "unif_cell_shape                       0.719668         0.735948   \n",
      "marg_adhesion                         0.599599         0.666715   \n",
      "single_epith_cell_size                1.000000         0.616102   \n",
      "bland_chromatin                       0.616102         1.000000   \n",
      "normal_nucleoli                       0.628881         0.665878   \n",
      "mitoses                               0.479101         0.344169   \n",
      "class                                 0.682785         0.756616   \n",
      "\n",
      "                        normal_nucleoli   mitoses     class  \n",
      "id                            -0.052072 -0.034901 -0.080226  \n",
      "clump_thickness                0.535835  0.350034  0.716001  \n",
      "unif_cell_size                 0.722865  0.458693  0.817904  \n",
      "unif_cell_shape                0.719446  0.438911  0.818934  \n",
      "marg_adhesion                  0.603352  0.417633  0.696800  \n",
      "single_epith_cell_size         0.628881  0.479101  0.682785  \n",
      "bland_chromatin                0.665878  0.344169  0.756616  \n",
      "normal_nucleoli                1.000000  0.428336  0.712244  \n",
      "mitoses                        0.428336  1.000000  0.423170  \n",
      "class                          0.712244  0.423170  1.000000  \n"
     ]
    }
   ],
   "source": [
    "# Correlation between different features\n",
    "correlation = df.corr()\n",
    "print(df.corr())"
   ]
  },
  {
   "cell_type": "code",
   "execution_count": 22,
   "metadata": {},
   "outputs": [
    {
     "data": {
      "text/plain": [
       "<matplotlib.axes._subplots.AxesSubplot at 0x156eb5b0128>"
      ]
     },
     "execution_count": 22,
     "metadata": {},
     "output_type": "execute_result"
    },
    {
     "data": {
      "image/png": "[encoded data removed]",
      "text/plain": [
       "<matplotlib.figure.Figure at 0x156eb172eb8>"
      ]
     },
     "metadata": {},
     "output_type": "display_data"
    }
   ],
   "source": [
    "# Let's see this in a heatmap\n",
    "\n",
    "plt.figure(figsize=(15, 10))\n",
    "sns.heatmap(correlation, annot=True, cmap='coolwarm')"
   ]
  },
  {
   "cell_type": "markdown",
   "metadata": {
    "collapsed": true
   },
   "source": [
    "We can clearly see that when we take the correlation of features, almost all the Correlation coefficients are positive values but only \"id\" has a negative correlation with all the featues in the data.\n",
    "\n",
    "So, this shows that, the \"id\" column is of no use to us. Also, removing this will not affect the accuracy at all.\n",
    "\n",
    "So, we will remove the \"id\" column from the dataset. This is what we call \"Feature Selection\"."
   ]
  },
  {
   "cell_type": "code",
   "execution_count": 23,
   "metadata": {},
   "outputs": [
    {
     "name": "stdout",
     "output_type": "stream",
     "text": [
      "   clump_thickness  unif_cell_size  unif_cell_shape  marg_adhesion  \\\n",
      "0                5               1                1              1   \n",
      "1                5               4                4              5   \n",
      "2                3               1                1              1   \n",
      "3                6               8                8              1   \n",
      "4                4               1                1              3   \n",
      "\n",
      "   single_epith_cell_size bare_nuclei  bland_chromatin  normal_nucleoli  \\\n",
      "0                       2           1                3                1   \n",
      "1                       7          10                3                2   \n",
      "2                       2           2                3                1   \n",
      "3                       3           4                3                7   \n",
      "4                       2           1                3                1   \n",
      "\n",
      "   mitoses  class  \n",
      "0        1      2  \n",
      "1        1      2  \n",
      "2        1      2  \n",
      "3        1      2  \n",
      "4        1      2  \n"
     ]
    }
   ],
   "source": [
    "# Feature Selection\n",
    "\n",
    "df.drop(['id'], 1, inplace=True)\n",
    "\n",
    "# Filtered Dataset\n",
    "print(df.head())"
   ]
  },
  {
   "cell_type": "markdown",
   "metadata": {},
   "source": [
    "Are we all done ?? Well not yet. This dataset contains empty or NaN values which have been repressented as \"?\". We have two options: Either replace the empty spaces by the Mean or Median value of the Column or replace the empty value with a very large negative value i.e. an outlier or remove the entire row consisting of empty value.\n",
    "\n",
    "I'll go with the second option. Why replace it with an outlier value you ask ?? Well, we went over this in Linear Regression discussion and saw that the outliers are neglected. So, let's do it."
   ]
  },
  {
   "cell_type": "code",
   "execution_count": 24,
   "metadata": {
    "collapsed": true
   },
   "outputs": [],
   "source": [
    "# Replace empty values with Outlier value\n",
    "\n",
    "df.replace('?', -99999, inplace=True)"
   ]
  },
  {
   "cell_type": "markdown",
   "metadata": {},
   "source": [
    "Well we are all done with the basic Data Modelling. Next step is to form the features and labels and train the Classifier.\n",
    "\n",
    "\n",
    "### Step-5: Train the Classifier\n",
    "\n",
    "So, let's train the Classifier. Firstly, we need to define the features and the labels.\n",
    "\n",
    "Features: All column values except the \"Class\" which we need to predict i.e. \"Malignant\" or \"Benign\""
   ]
  },
  {
   "cell_type": "code",
   "execution_count": 25,
   "metadata": {
    "collapsed": true
   },
   "outputs": [],
   "source": [
    "# Features\n",
    "X = np.array(df.drop(['class'],1))\n",
    "\n",
    "# Labels\n",
    "y = np.array(df['class'])"
   ]
  },
  {
   "cell_type": "code",
   "execution_count": 26,
   "metadata": {},
   "outputs": [
    {
     "name": "stdout",
     "output_type": "stream",
     "text": [
      "Features: \n",
      " [[5 1 1 ..., 3 1 1]\n",
      " [5 4 4 ..., 3 2 1]\n",
      " [3 1 1 ..., 3 1 1]\n",
      " ..., \n",
      " [5 10 10 ..., 8 10 2]\n",
      " [4 8 6 ..., 10 6 1]\n",
      " [4 8 8 ..., 10 4 1]]\n",
      "Labels: \n",
      " [2 2 2 2 2 4 2 2 2 2 2 2 4 2 4 4 2 2 4 2 4 4 2 4 2 4 2 2 2 2 2 2 4 2 2 2 4\n",
      " 2 4 4 2 4 4 4 4 2 4 2 2 4 4 4 4 4 4 4 4 4 4 4 4 2 4 4 2 4 2 4 4 2 2 4 2 4\n",
      " 4 2 2 2 2 2 2 2 2 2 4 4 4 4 2 2 2 2 2 2 2 2 2 2 4 4 4 4 2 4 4 4 4 4 2 4 2\n",
      " 4 4 4 2 2 2 4 2 2 2 2 4 4 4 2 4 2 4 2 2 2 4 2 2 2 2 2 2 2 2 2 4 2 2 2 4 2\n",
      " 2 4 2 4 4 2 2 4 2 2 2 4 4 2 2 2 2 2 4 4 2 2 2 2 2 4 4 4 2 4 2 4 2 2 2 4 4\n",
      " 2 4 4 4 2 4 4 2 2 2 2 2 2 2 2 4 4 2 2 2 4 4 2 2 2 4 4 2 4 4 4 2 2 4 2 2 4\n",
      " 4 4 4 2 4 4 2 4 4 4 2 4 2 2 4 4 4 4 2 2 2 2 2 2 4 4 2 2 2 4 2 4 4 4 2 2 2\n",
      " 2 4 4 4 4 4 2 4 4 4 2 4 2 4 4 2 2 2 2 2 4 2 2 4 4 4 4 4 2 4 4 2 2 4 4 2 4\n",
      " 2 2 2 4 4 2 4 2 4 4 2 2 4 2 2 2 4 2 2 2 4 4 2 2 4 2 2 4 2 2 4 2 4 4 4 2 2\n",
      " 4 4 2 4 2 2 4 4 2 2 2 4 2 2 2 4 4 2 2 2 4 2 2 4 4 4 4 4 4 2 2 2 2 4 4 2 2\n",
      " 2 2 2 2 2 2 2 2 2 2 2 4 2 2 2 2 4 2 2 2 2 4 2 2 2 2 2 2 2 2 4 2 2 2 2 2 2\n",
      " 2 2 2 2 2 4 2 4 2 4 2 2 2 2 4 2 2 2 4 2 4 2 2 2 2 2 2 2 4 4 2 2 2 4 2 2 2\n",
      " 2 2 2 2 2 4 2 2 2 4 2 4 4 4 2 2 2 2 2 2 2 4 4 4 2 2 2 2 2 2 2 2 2 2 2 4 2\n",
      " 2 4 4 2 2 2 4 4 4 2 4 2 4 2 2 2 2 2 2 2 2 2 2 2 2 4 2 2 2 2 2 2 2 4 4 2 2\n",
      " 2 4 2 2 4 4 2 2 2 2 2 2 4 2 2 2 2 2 2 2 2 2 2 2 2 2 2 2 4 2 2 4 2 2 2 2 2\n",
      " 2 2 2 2 2 2 2 2 2 2 4 2 2 4 4 4 4 2 2 4 2 2 2 2 2 2 4 4 2 2 2 4 2 4 2 4 4\n",
      " 4 2 4 2 2 2 2 2 2 2 2 4 4 4 2 2 4 2 4 4 4 2 2 2 2 2 2 2 2 2 2 2 2 2 4 2 2\n",
      " 2 2 2 2 4 2 2 4 2 2 2 2 2 2 2 2 2 2 2 4 2 2 2 2 2 2 2 2 2 4 2 2 2 2 2 2 2\n",
      " 2 2 4 4 4 2 2 2 2 2 2 2 2 2 4 4 2 2 2 2 2 2 2 2 2 4 2 2 2 2 4 4 4]\n"
     ]
    }
   ],
   "source": [
    "# Let's have a look at our Features and Labels\n",
    "print('Features: \\n',X)\n",
    "print('Labels: \\n',y)"
   ]
  },
  {
   "cell_type": "markdown",
   "metadata": {},
   "source": [
    "Perfect. We are now ready to do the Cross-Validation step."
   ]
  },
  {
   "cell_type": "code",
   "execution_count": 27,
   "metadata": {
    "collapsed": true
   },
   "outputs": [],
   "source": [
    "# Cross Validation\n",
    "# Test Data: 20% of total data\n",
    "X_train, X_test, y_train, y_test = model_selection.train_test_split(X, y, test_size = 0.2)"
   ]
  },
  {
   "cell_type": "markdown",
   "metadata": {},
   "source": [
    "Now, we have the training and testing set. It's time to Train the Classifier and test the predictions."
   ]
  },
  {
   "cell_type": "code",
   "execution_count": 28,
   "metadata": {},
   "outputs": [
    {
     "data": {
      "text/plain": [
       "LogisticRegression(C=1.0, class_weight=None, dual=False, fit_intercept=True,\n",
       "          intercept_scaling=1, max_iter=100, multi_class='ovr', n_jobs=10,\n",
       "          penalty='l2', random_state=None, solver='liblinear', tol=0.0001,\n",
       "          verbose=0, warm_start=False)"
      ]
     },
     "execution_count": 28,
     "metadata": {},
     "output_type": "execute_result"
    }
   ],
   "source": [
    "# Define the Classifier\n",
    "clf = linear_model.LogisticRegression(n_jobs = 10)\n",
    "\n",
    "# Train the Classifier\n",
    "clf.fit(X_train,y_train)"
   ]
  },
  {
   "cell_type": "markdown",
   "metadata": {},
   "source": [
    "Well, now we have a trained Classifier, we need to check out the predictions for the Test Data and then see how accurate the predictions are.\n",
    "\n",
    "So, let's get started."
   ]
  },
  {
   "cell_type": "code",
   "execution_count": 29,
   "metadata": {},
   "outputs": [
    {
     "name": "stdout",
     "output_type": "stream",
     "text": [
      "Predicted Labels:  [2 2 2 2 2 2 2 2 2 2 2 4 2 2 2 4 4 2 2 2 2 2 4 2 2 4 2 4 2 2 2 2 4 2 4 2 4\n",
      " 2 4 2 2 2 4 2 2 2 2 2 2 2 2 2 2 4 4 4 4 2 2 2 4 2 2 2 4 2 2 4 2 4 4 2 2 4\n",
      " 2 4 4 2 2 4 4 2 2 4 4 4 2 4 4 4 2 2 2 2 2 2 2 2 4 2 2 2 2 2 2 2 2 2 4 2 2\n",
      " 2 2 4 4 2 4 2 2 4 2 2 4 2 4 4 2 2 2 4 2 2 2 4 2 2 4 4 2 2]\n"
     ]
    }
   ],
   "source": [
    "# Predcitions on Test Data\n",
    "y_pred = clf.predict(X_test)\n",
    "print('Predicted Labels: ',y_pred)"
   ]
  },
  {
   "cell_type": "markdown",
   "metadata": {},
   "source": [
    "We have the true labels i.e. y_test and the predicted labels y_pred. Now is a good time to see that how good our Classifier is i.e. how many labels did the Classifier Misclassify or classify correctly. So, let's calculate this."
   ]
  },
  {
   "cell_type": "code",
   "execution_count": 30,
   "metadata": {},
   "outputs": [
    {
     "name": "stdout",
     "output_type": "stream",
     "text": [
      "Number of Misclassified Labels: 6\n"
     ]
    }
   ],
   "source": [
    "# Number of Misclassified Labels\n",
    "print('Number of Misclassified Labels: {}'.format((y_pred != y_test).sum()))"
   ]
  },
  {
   "cell_type": "markdown",
   "metadata": {},
   "source": [
    "Well our Classifier Misclassified only \"6\" values. But out of how many ??"
   ]
  },
  {
   "cell_type": "code",
   "execution_count": 31,
   "metadata": {},
   "outputs": [
    {
     "name": "stdout",
     "output_type": "stream",
     "text": [
      "Total Predicted Values:  140\n"
     ]
    }
   ],
   "source": [
    "print('Total Predicted Values: ',len(y_pred))"
   ]
  },
  {
   "cell_type": "markdown",
   "metadata": {},
   "source": [
    "Woww !! Out of 140 values, only 6 values were Misclassified by our Trained Classifier. That's pretty impressive. Let's calculate the confidence and accuracy score for this."
   ]
  },
  {
   "cell_type": "code",
   "execution_count": 32,
   "metadata": {},
   "outputs": [
    {
     "name": "stdout",
     "output_type": "stream",
     "text": [
      "Confidence of Classifier:  0.957142857143\n"
     ]
    }
   ],
   "source": [
    "# Confidence\n",
    "confidence = clf.score(X_test, y_test)\n",
    "print('Confidence of Classifier: ',confidence)"
   ]
  },
  {
   "cell_type": "markdown",
   "metadata": {},
   "source": [
    "So, our Classifier is 95% confident of its predictions. That is what we saw above where only 6 values were misclassified from 140. Pretty good."
   ]
  },
  {
   "cell_type": "code",
   "execution_count": 33,
   "metadata": {},
   "outputs": [
    {
     "name": "stdout",
     "output_type": "stream",
     "text": [
      "Accuracy Score of Classifier:  0.957142857143\n"
     ]
    }
   ],
   "source": [
    "# Accuracy Score\n",
    "acc = accuracy_score(y_test,y_pred)\n",
    "print('Accuracy Score of Classifier: ',acc)"
   ]
  },
  {
   "cell_type": "markdown",
   "metadata": {},
   "source": [
    "Let's check the Confusion Matrix to see the number of True positive and False Positives."
   ]
  },
  {
   "cell_type": "code",
   "execution_count": 34,
   "metadata": {},
   "outputs": [
    {
     "name": "stdout",
     "output_type": "stream",
     "text": [
      "Confusion Matrix: \n",
      " [[91  1]\n",
      " [ 5 43]]\n"
     ]
    }
   ],
   "source": [
    "# Confusin Matrix\n",
    "conf = confusion_matrix(y_test, y_pred)\n",
    "print('Confusion Matrix: \\n',conf)"
   ]
  },
  {
   "cell_type": "markdown",
   "metadata": {},
   "source": [
    "These values show that we have 91 True Positive values, 5 False Positive Values. Also, we have 1 False Negative Value and 43 True negative Values predicted."
   ]
  }
 ],
 "metadata": {
  "kernelspec": {
   "display_name": "Python 3",
   "language": "python",
   "name": "python3"
  },
  "language_info": {
   "codemirror_mode": {
    "name": "ipython",
    "version": 3
   },
   "file_extension": ".py",
   "mimetype": "text/x-python",
   "name": "python",
   "nbconvert_exporter": "python",
   "pygments_lexer": "ipython3",
   "version": "3.5.3"
  }
 },
 "nbformat": 4,
 "nbformat_minor": 2
}
