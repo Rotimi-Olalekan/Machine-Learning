{
 "cells": [
  {
   "cell_type": "markdown",
   "metadata": {},
   "source": [
    "## Tutorial to Visualize Sigmoid Function\n",
    "\n",
    "Let us visualize the Sigmoid Function. We know the function for it and the range of the output.\n",
    "\n",
    "So, let's get started."
   ]
  },
  {
   "cell_type": "code",
   "execution_count": 2,
   "metadata": {
    "collapsed": true
   },
   "outputs": [],
   "source": [
    "# Import Dependencies\n",
    "\n",
    "import numpy as np\n",
    "import matplotlib.pyplot as plt\n",
    "%matplotlib inline"
   ]
  },
  {
   "cell_type": "markdown",
   "metadata": {},
   "source": [
    "Now, let's create a dummy data. I will be using Numpy's inbuilt function with following format\n",
    "\n",
    "#### np.arange(start, stop, step_size)\n",
    "\n",
    "to generate input data. So, let's do it."
   ]
  },
  {
   "cell_type": "code",
   "execution_count": 3,
   "metadata": {},
   "outputs": [
    {
     "name": "stdout",
     "output_type": "stream",
     "text": [
      "X:  [ -1.00000000e+01  -9.80000000e+00  -9.60000000e+00  -9.40000000e+00\n",
      "  -9.20000000e+00  -9.00000000e+00  -8.80000000e+00  -8.60000000e+00\n",
      "  -8.40000000e+00  -8.20000000e+00  -8.00000000e+00  -7.80000000e+00\n",
      "  -7.60000000e+00  -7.40000000e+00  -7.20000000e+00  -7.00000000e+00\n",
      "  -6.80000000e+00  -6.60000000e+00  -6.40000000e+00  -6.20000000e+00\n",
      "  -6.00000000e+00  -5.80000000e+00  -5.60000000e+00  -5.40000000e+00\n",
      "  -5.20000000e+00  -5.00000000e+00  -4.80000000e+00  -4.60000000e+00\n",
      "  -4.40000000e+00  -4.20000000e+00  -4.00000000e+00  -3.80000000e+00\n",
      "  -3.60000000e+00  -3.40000000e+00  -3.20000000e+00  -3.00000000e+00\n",
      "  -2.80000000e+00  -2.60000000e+00  -2.40000000e+00  -2.20000000e+00\n",
      "  -2.00000000e+00  -1.80000000e+00  -1.60000000e+00  -1.40000000e+00\n",
      "  -1.20000000e+00  -1.00000000e+00  -8.00000000e-01  -6.00000000e-01\n",
      "  -4.00000000e-01  -2.00000000e-01  -3.55271368e-14   2.00000000e-01\n",
      "   4.00000000e-01   6.00000000e-01   8.00000000e-01   1.00000000e+00\n",
      "   1.20000000e+00   1.40000000e+00   1.60000000e+00   1.80000000e+00\n",
      "   2.00000000e+00   2.20000000e+00   2.40000000e+00   2.60000000e+00\n",
      "   2.80000000e+00   3.00000000e+00   3.20000000e+00   3.40000000e+00\n",
      "   3.60000000e+00   3.80000000e+00   4.00000000e+00   4.20000000e+00\n",
      "   4.40000000e+00   4.60000000e+00   4.80000000e+00   5.00000000e+00\n",
      "   5.20000000e+00   5.40000000e+00   5.60000000e+00   5.80000000e+00\n",
      "   6.00000000e+00   6.20000000e+00   6.40000000e+00   6.60000000e+00\n",
      "   6.80000000e+00   7.00000000e+00   7.20000000e+00   7.40000000e+00\n",
      "   7.60000000e+00   7.80000000e+00   8.00000000e+00   8.20000000e+00\n",
      "   8.40000000e+00   8.60000000e+00   8.80000000e+00   9.00000000e+00\n",
      "   9.20000000e+00   9.40000000e+00   9.60000000e+00   9.80000000e+00]\n"
     ]
    }
   ],
   "source": [
    "# Generate dummy data\n",
    "\n",
    "X = np.arange(-10.0, 10.0, 0.2)\n",
    "print('X: ',X)"
   ]
  },
  {
   "cell_type": "markdown",
   "metadata": {},
   "source": [
    "So, we got our values in the range -10 and +10 with a step size of 0.2. Now to define the sigmoid function."
   ]
  },
  {
   "cell_type": "code",
   "execution_count": 4,
   "metadata": {
    "collapsed": true
   },
   "outputs": [],
   "source": [
    "# Sigmoid Function\n",
    "# sigmoid(x) = 1 / (1 + exp(-x))\n",
    "\n",
    "def sigmoid(x):\n",
    "    return (1.0/(1 + np.exp(-x)))\n"
   ]
  },
  {
   "cell_type": "markdown",
   "metadata": {},
   "source": [
    "So, we are all done. Let's plot our sigmoid function."
   ]
  },
  {
   "cell_type": "code",
   "execution_count": 5,
   "metadata": {
    "collapsed": true
   },
   "outputs": [],
   "source": [
    "f_X = sigmoid(X)"
   ]
  },
  {
   "cell_type": "code",
   "execution_count": 8,
   "metadata": {},
   "outputs": [
    {
     "data": {
      "text/plain": [
       "<matplotlib.text.Text at 0x22fedb7f320>"
      ]
     },
     "execution_count": 8,
     "metadata": {},
     "output_type": "execute_result"
    },
    {
     "data": {
      "image/png": "[encoded data removed]",
      "text/plain": [
       "<matplotlib.figure.Figure at 0x22fedada7f0>"
      ]
     },
     "metadata": {},
     "output_type": "display_data"
    }
   ],
   "source": [
    "# Plot Sigmoid Function\n",
    "\n",
    "fig,ax = plt.subplots(figsize = (10,8))\n",
    "ax.plot(X,f_X)\n",
    "ax.set_xlabel('Z')\n",
    "ax.set_ylabel('label = 0 or 1')\n",
    "ax.set_title('Sigmoid Function')"
   ]
  },
  {
   "cell_type": "markdown",
   "metadata": {},
   "source": [
    "So, we can clearly see that for any values of input, this function converts the value to the range of 0 and 1."
   ]
  }
 ],
 "metadata": {
  "kernelspec": {
   "display_name": "Python 3",
   "language": "python",
   "name": "python3"
  },
  "language_info": {
   "codemirror_mode": {
    "name": "ipython",
    "version": 3
   },
   "file_extension": ".py",
   "mimetype": "text/x-python",
   "name": "python",
   "nbconvert_exporter": "python",
   "pygments_lexer": "ipython3",
   "version": "3.5.3"
  }
 },
 "nbformat": 4,
 "nbformat_minor": 2
}
