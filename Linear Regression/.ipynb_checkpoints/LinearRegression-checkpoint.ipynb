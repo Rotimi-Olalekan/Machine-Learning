{
 "cells": [
  {
   "cell_type": "markdown",
   "metadata": {},
   "source": [
    "## Linear Regression Code from Scratch\n",
    "\n",
    "In this tutorial, we will be writing the code from scratch for Linear Regression using the First Approach that we studied i.e. using the R-Squared Error and then we will move on to plotting the \"Best Fit Line\" using Gradient Descent.\n",
    "So, let's get started.\n",
    "\n",
    "### Step-1: Import the Dependencies.\n",
    "Mean: to calculate the mean of the data points\n",
    "\n",
    "Numpy: for numerical calculations\n",
    "\n",
    "Matplotlib: to plot the data\n",
    "\n",
    "Pandas: to load the data and modify it"
   ]
  },
  {
   "cell_type": "code",
   "execution_count": 1,
   "metadata": {
    "collapsed": false
   },
   "outputs": [],
   "source": [
    "# Import Dependencies\n",
    "from statistics import mean\n",
    "import numpy as np\n",
    "import pandas as pd\n",
    "import matplotlib.pyplot as plt\n",
    "%matplotlib inline"
   ]
  },
  {
   "cell_type": "markdown",
   "metadata": {},
   "source": [
    "We discussed in the starting tutorials that a straight line is represented by the equation: \n",
    "##### y = mx + b\n",
    "where,\n",
    "#### m: Slope of the line\n",
    "#### b: bias\n",
    "\n",
    "\n",
    "### Step2: Fit a line to Input Data\n",
    "\n",
    "Also, we studied that to find out the \"Best Fit Line\" we require the values of m and b. So, to find the best fit line, we used the formula:\n",
    "\n",
    "#### Slope(m) = (mean(x)*mean(y) - mean(x*y)) / (mean(x)^2 - mean(x^2))\n",
    "\n",
    "#### Bias(b) = mean(y) - m*mean(x)\n",
    "\n",
    "and then put these values in the equation of a straight line to get the new values for y or what we called in the tutorial as y_hat. "
   ]
  },
  {
   "cell_type": "code",
   "execution_count": 2,
   "metadata": {
    "collapsed": true
   },
   "outputs": [],
   "source": [
    "# Equation for a Straight Line:  y = mx + b\n",
    "# Function to predict the Best Fit Slope\n",
    "# Slope(m) = (mean(x)*mean(y) - mean(x*y))/(mean(x)^2 - mean(x^2))\n",
    "# Bias(b) = mean(y) - m*mean(x)\n",
    "\n",
    "def best_fit_slope(X,y):\n",
    "    slope_m = ((mean(X)*mean(y)) - mean(X*y))/(mean(X)**2 - mean(X**2))\n",
    "    bias_b = mean(y) - slope_m*mean(X)\n",
    "    return slope_m, bias_b"
   ]
  },
  {
   "cell_type": "markdown",
   "metadata": {},
   "source": [
    "In the above function, we have calculated the hard coded values for slope(m) and the bias(b). Now, let's input our data and see how this function performs to form a \"Best Fit Line\".\n",
    "\n",
    "\n",
    "### Step-3: Load Dataset\n",
    "For this code, we will be taking the \"Swedish Insurance Dataset\". This is a very simple dataset to start with and involves predicting the total payment for all the claims in thousands of Swedish Kronor (y) given the total number of claims (X). This means that for a new number of claims (X) we will be able to predict the total payment of claims (y).\n",
    "\n",
    "Let's load our data and have a look at it."
   ]
  },
  {
   "cell_type": "code",
   "execution_count": 4,
   "metadata": {
    "collapsed": false
   },
   "outputs": [],
   "source": [
    "# Load the data using Pandas\n",
    "\n",
    "df = pd.read_csv('dataset/Insurance-dataset.csv')"
   ]
  },
  {
   "cell_type": "code",
   "execution_count": 5,
   "metadata": {
    "collapsed": false
   },
   "outputs": [
    {
     "name": "stdout",
     "output_type": "stream",
     "text": [
      "     X      Y\n",
      "0  108  392.5\n",
      "1   19   46.2\n",
      "2   13   15.7\n",
      "3  124  422.2\n",
      "4   40  119.4\n"
     ]
    }
   ],
   "source": [
    "# Let's have a look at the data, what it looks like, how many data points are there in the data.\n",
    "\n",
    "print(df.head())"
   ]
  },
  {
   "cell_type": "markdown",
   "metadata": {},
   "source": [
    "Data is in the form of two columns, X and Y. X is the total number of claims and Y represents the claims in thousands of Swedish Kronor.\n",
    "\n",
    "Now, let's describe our data."
   ]
  },
  {
   "cell_type": "code",
   "execution_count": 6,
   "metadata": {
    "collapsed": false
   },
   "outputs": [
    {
     "data": {
      "text/html": [
       "<div>\n",
       "<table border=\"1\" class=\"dataframe\">\n",
       "  <thead>\n",
       "    <tr style=\"text-align: right;\">\n",
       "      <th></th>\n",
       "      <th>X</th>\n",
       "      <th>Y</th>\n",
       "    </tr>\n",
       "  </thead>\n",
       "  <tbody>\n",
       "    <tr>\n",
       "      <th>count</th>\n",
       "      <td>63.000000</td>\n",
       "      <td>63.000000</td>\n",
       "    </tr>\n",
       "    <tr>\n",
       "      <th>mean</th>\n",
       "      <td>22.904762</td>\n",
       "      <td>98.187302</td>\n",
       "    </tr>\n",
       "    <tr>\n",
       "      <th>std</th>\n",
       "      <td>23.351946</td>\n",
       "      <td>87.327553</td>\n",
       "    </tr>\n",
       "    <tr>\n",
       "      <th>min</th>\n",
       "      <td>0.000000</td>\n",
       "      <td>0.000000</td>\n",
       "    </tr>\n",
       "    <tr>\n",
       "      <th>25%</th>\n",
       "      <td>7.500000</td>\n",
       "      <td>38.850000</td>\n",
       "    </tr>\n",
       "    <tr>\n",
       "      <th>50%</th>\n",
       "      <td>14.000000</td>\n",
       "      <td>73.400000</td>\n",
       "    </tr>\n",
       "    <tr>\n",
       "      <th>75%</th>\n",
       "      <td>29.000000</td>\n",
       "      <td>140.000000</td>\n",
       "    </tr>\n",
       "    <tr>\n",
       "      <th>max</th>\n",
       "      <td>124.000000</td>\n",
       "      <td>422.200000</td>\n",
       "    </tr>\n",
       "  </tbody>\n",
       "</table>\n",
       "</div>"
      ],
      "text/plain": [
       "                X           Y\n",
       "count   63.000000   63.000000\n",
       "mean    22.904762   98.187302\n",
       "std     23.351946   87.327553\n",
       "min      0.000000    0.000000\n",
       "25%      7.500000   38.850000\n",
       "50%     14.000000   73.400000\n",
       "75%     29.000000  140.000000\n",
       "max    124.000000  422.200000"
      ]
     },
     "execution_count": 6,
     "metadata": {},
     "output_type": "execute_result"
    }
   ],
   "source": [
    "df.describe()"
   ]
  },
  {
   "cell_type": "markdown",
   "metadata": {},
   "source": [
    "So, both the columns have equal number of data points. Hence, the dataset is stable. No need to modify the data. We also get the mean, max values in both columns etc.\n",
    "\n",
    "Now, let's put the data in the form to be input to the function we just defined above."
   ]
  },
  {
   "cell_type": "code",
   "execution_count": 7,
   "metadata": {
    "collapsed": true
   },
   "outputs": [],
   "source": [
    "# Load the data in the form to be input to the function for Best Fit Line\n",
    "\n",
    "X = np.array(df['X'], dtype=np.float64)\n",
    "y = np.array(df['Y'], dtype=np.float64)"
   ]
  },
  {
   "cell_type": "markdown",
   "metadata": {},
   "source": [
    "### Step-4: Scatter Plot of Input Data\n",
    "Before going any further, let's first plot our data and see if it's linear or not. Remember, we require linear data to plot a best fit line and neglect the Outliers.\n",
    "So, let's plot the data."
   ]
  },
  {
   "cell_type": "code",
   "execution_count": 8,
   "metadata": {
    "collapsed": false
   },
   "outputs": [
    {
     "data": {
      "text/plain": [
       "<matplotlib.text.Text at 0x7ff8210>"
      ]
     },
     "execution_count": 8,
     "metadata": {},
     "output_type": "execute_result"
    },
    {
     "data": {
      "image/png": "[encoded data removed]",
      "text/plain": [
       "<matplotlib.figure.Figure at 0x7fca490>"
      ]
     },
     "metadata": {},
     "output_type": "display_data"
    }
   ],
   "source": [
    "# Scatter Plot of the Input Data\n",
    "\n",
    "fig,ax = plt.subplots()\n",
    "ax.scatter(X,y)\n",
    "ax.set_xlabel('X')\n",
    "ax.set_ylabel('y')\n",
    "ax.set_title('Input Data Scatter Plot')"
   ]
  },
  {
   "cell_type": "markdown",
   "metadata": {},
   "source": [
    "From the above plot, we can see that the data is pretty linear except for 1 or 2 points. But that's ok. We can work with that.\n",
    "\n",
    "Now, lets use the function we defined above and find the values for m and b to get the line that best fits the data."
   ]
  },
  {
   "cell_type": "code",
   "execution_count": 9,
   "metadata": {
    "collapsed": false
   },
   "outputs": [
    {
     "name": "stdout",
     "output_type": "stream",
     "text": [
      "Slope:  3.41382356007\n",
      "Bias:  19.9944857591\n"
     ]
    }
   ],
   "source": [
    "m,b = best_fit_slope(X,y)\n",
    "\n",
    "print('Slope: ',m)\n",
    "print('Bias: ',b)"
   ]
  },
  {
   "cell_type": "markdown",
   "metadata": {},
   "source": [
    "### Step-5: Calculate Values of y_hat\n",
    "Using these values of m and b, we can now find out the values of y which we call as y_hat and when we plot them with X, we get our line."
   ]
  },
  {
   "cell_type": "code",
   "execution_count": 10,
   "metadata": {
    "collapsed": false
   },
   "outputs": [
    {
     "name": "stdout",
     "output_type": "stream",
     "text": [
      "y_hat:  [ 388.68743025   84.8571334    64.37419204  443.30860721  156.54742816\n",
      "  214.58242868   98.51242764   67.7880156   173.61654596   54.13272136\n",
      "   37.06360356  183.85801664   57.54654492   98.51242764   43.89125068\n",
      "   26.82213288  101.9262512    40.47742712   30.23595644   98.51242764\n",
      "   40.47742712   50.7188978    50.7188978    30.23595644  118.995369\n",
      "   43.89125068   33.64978      88.27095696   43.89125068   33.64978\n",
      "   19.99448576  105.34007476   40.47742712   37.06360356   95.09860408\n",
      "   57.54654492  228.23772292   60.96036848   33.64978      74.61566272\n",
      "   64.37419204  224.82389936  159.96125172  146.30595748  207.75478156\n",
      "  159.96125172   57.54654492  112.16772188   47.30507424   30.23595644\n",
      "   78.02948628   64.37419204   64.37419204   71.20183916   47.30507424\n",
      "  118.995369    122.40919256  101.9262512    50.7188978   125.82301612\n",
      "   67.7880156   200.92713444  108.75389832]\n"
     ]
    }
   ],
   "source": [
    "# Calculate y_hat\n",
    "\n",
    "y_hat = m*X + b\n",
    "\n",
    "print('y_hat: ', y_hat)"
   ]
  },
  {
   "cell_type": "markdown",
   "metadata": {},
   "source": [
    "### Step-6: Plot Line of Best Fit\n",
    "Now, we have got the values for y_hat, m and b. Now, we can go ahead and plot the line that fits the data."
   ]
  },
  {
   "cell_type": "code",
   "execution_count": 11,
   "metadata": {
    "collapsed": false
   },
   "outputs": [
    {
     "data": {
      "text/plain": [
       "<matplotlib.text.Text at 0x808a790>"
      ]
     },
     "execution_count": 11,
     "metadata": {},
     "output_type": "execute_result"
    },
    {
     "data": {
      "image/png": "[encoded data removed]",
      "text/plain": [
       "<matplotlib.figure.Figure at 0x8016eb0>"
      ]
     },
     "metadata": {},
     "output_type": "display_data"
    }
   ],
   "source": [
    "# Scatter Plot of the Input Data with the line fit on Input Data\n",
    "\n",
    "fig,ax = plt.subplots()\n",
    "ax.scatter(X,y)\n",
    "ax.set_xlabel('X')\n",
    "ax.set_ylabel('y')\n",
    "ax.plot(X,y_hat)\n",
    "ax.set_title('Line fit to Input Data')"
   ]
  },
  {
   "cell_type": "markdown",
   "metadata": {},
   "source": [
    "### Step-7: Find the Squared Error and R-Squared Error\n",
    "\n",
    "So, in the above plot we get the plot of the line fit to input data points. But is this line really a good fit line ??\n",
    "\n",
    "Now, we will write a function to check the accuracy of this line and see how really best fit is this line.\n",
    "\n",
    "So, how to proceed from here. Remember, we talked about the Square Error and the R-Squared Error equations which help to provide the accuracy for the so called best fit line. Let's implement these functions.\n",
    "\n",
    "So, what is the equation for Squared Error? \n",
    "\n",
    "### Squared Error = sum((y_hat - y)^2) \n",
    "\n",
    "Let's implement this."
   ]
  },
  {
   "cell_type": "code",
   "execution_count": 12,
   "metadata": {
    "collapsed": true
   },
   "outputs": [],
   "source": [
    "# Squared Error\n",
    "# Squared Error = sum((y_hat-y)^2)\n",
    "def squared_Error(y, y_hat):\n",
    "    return sum((y_hat - y)**2)\n"
   ]
  },
  {
   "cell_type": "markdown",
   "metadata": {},
   "source": [
    "Now, we have our squared error. Next we want to calculate the R-Squared Error using Squared Error function. So, what was the formula for this.\n",
    "\n",
    "### R-Squared Error  =  1 - ((Squared_Error(y_hat)) / (Squared_Error(mean(y))))\n",
    "\n",
    "So, let's implement it."
   ]
  },
  {
   "cell_type": "code",
   "execution_count": 13,
   "metadata": {
    "collapsed": true
   },
   "outputs": [],
   "source": [
    "# R-Squared Error\n",
    "\n",
    "def r_squared(y,y_hat):\n",
    "    # Mean of all data points forms the mean line\n",
    "    mean_line = mean(y)\n",
    "    \n",
    "    # Squared Error between Regression Line (y_hat) and the data points\n",
    "    y_hat_Squared_Error = squared_Error(y,y_hat)\n",
    "    \n",
    "    # Squared Error between Mean Line and data points\n",
    "    y_Squared_Error = squared_Error(y,mean_line)\n",
    "    \n",
    "    return 1 - (y_hat_Squared_Error/y_Squared_Error)"
   ]
  },
  {
   "cell_type": "markdown",
   "metadata": {},
   "source": [
    "So, now since we have implemented both the functions, it's time to evaluate our results. Let's see how accuate our current line is."
   ]
  },
  {
   "cell_type": "code",
   "execution_count": 14,
   "metadata": {
    "collapsed": false
   },
   "outputs": [
    {
     "name": "stdout",
     "output_type": "stream",
     "text": [
      "R-Squared Error:  0.833346671979\n"
     ]
    }
   ],
   "source": [
    "print('R-Squared Error: ', r_squared(y,y_hat))"
   ]
  },
  {
   "cell_type": "markdown",
   "metadata": {},
   "source": [
    "So, the R-Squared error is 0.833. But wait a minute. In the tutorial we explained that R-Squared Error is actually the accuracy of the line. So what is our error ??"
   ]
  },
  {
   "cell_type": "code",
   "execution_count": 15,
   "metadata": {
    "collapsed": false
   },
   "outputs": [
    {
     "name": "stdout",
     "output_type": "stream",
     "text": [
      "Error% :  16.6653328021\n"
     ]
    }
   ],
   "source": [
    "# Error%\n",
    "\n",
    "error = 1 - r_squared(y,y_hat)\n",
    "print('Error% : ', error*100)"
   ]
  },
  {
   "cell_type": "code",
   "execution_count": 16,
   "metadata": {
    "collapsed": false
   },
   "outputs": [
    {
     "name": "stdout",
     "output_type": "stream",
     "text": [
      "Accuracy% :  0.833346671979\n"
     ]
    }
   ],
   "source": [
    "# Accuracy%\n",
    "\n",
    "print('Accuracy% : ', r_squared(y,y_hat))"
   ]
  },
  {
   "cell_type": "markdown",
   "metadata": {},
   "source": [
    "So, our line is 83.33% accurate, which is pretty great but we would still like to improve the accuracy.\n",
    "\n",
    "But before that, let's take a random input \"X\" and see if we can get a value of \"y\" accurately."
   ]
  },
  {
   "cell_type": "code",
   "execution_count": 17,
   "metadata": {
    "collapsed": false
   },
   "outputs": [
    {
     "name": "stdout",
     "output_type": "stream",
     "text": [
      "y:  310.169488365\n"
     ]
    }
   ],
   "source": [
    "# Testing the Best Fit Line for Linear Regression\n",
    "\n",
    "new_X = 85\n",
    "new_y = (m*new_X + b)\n",
    "print('y: ',new_y)"
   ]
  },
  {
   "cell_type": "code",
   "execution_count": null,
   "metadata": {
    "collapsed": true
   },
   "outputs": [],
   "source": [
    "# Let's now plot this point and check for accuracy\n",
    "# Scatter Plot of the values \"new_X\" and \"new_y\"\n",
    "\n",
    "fig,ax = plt.subplots()\n",
    "ax.scatter(X,y)\n",
    "ax.set_xlabel('X')\n",
    "ax.set_ylabel('y')\n",
    "ax.scatter(new_X,new_y,'r')\n",
    "ax.plot(X,y_hat)\n",
    "ax.set_title('Line fit to Input Data')"
   ]
  }
 ],
 "metadata": {
  "kernelspec": {
   "display_name": "Python 3",
   "language": "python",
   "name": "python3"
  },
  "language_info": {
   "codemirror_mode": {
    "name": "ipython",
    "version": 3
   },
   "file_extension": ".py",
   "mimetype": "text/x-python",
   "name": "python",
   "nbconvert_exporter": "python",
   "pygments_lexer": "ipython3",
   "version": "3.5.2"
  }
 },
 "nbformat": 4,
 "nbformat_minor": 2
}
