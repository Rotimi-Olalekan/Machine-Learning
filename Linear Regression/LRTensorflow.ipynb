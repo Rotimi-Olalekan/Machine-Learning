{
 "cells": [
  {
   "cell_type": "markdown",
   "metadata": {},
   "source": [
    "## Linear Regression using Tensorflow\n",
    "\n",
    "In this tutorial, we will be raising our standard a bit asince, we understand the basics now. So, let's have a look at Google's Tensorflow and how it can do Linear Regression.\n",
    "\n",
    "You will be surprised to see that how easy it is to use this tool for anything.\n",
    "\n",
    "So, let's get started...\n",
    "\n",
    "\n",
    "### Step-1: Import Dependencies\n",
    "\n",
    "* numpy: for numerical analysis\n",
    "\n",
    "* pandas: to read and modify data\n",
    " \n",
    "* tensorflow: Google's library for Machine Learning and Deep Learning\n",
    "\n",
    "* Matplotlib: to plot the data"
   ]
  },
  {
   "cell_type": "code",
   "execution_count": 1,
   "metadata": {
    "collapsed": true
   },
   "outputs": [],
   "source": [
    "# Import Dependencies\n",
    "\n",
    "import numpy as np\n",
    "import pandas as pd\n",
    "import tensorflow as tf\n",
    "import matplotlib.pyplot as plt\n",
    "from matplotlib import style\n",
    "style.use('ggplot')\n",
    "\n",
    "%matplotlib inline"
   ]
  },
  {
   "cell_type": "markdown",
   "metadata": {},
   "source": [
    "So, like in all the previous tutorials, the step-2 in this remains the same i.e. Load the Data. Let's do it.\n",
    "\n",
    "### Step-2: Load Dataset\n",
    "\n",
    "For this tutorial, I'll be using the Swedish Insurance dataset to show the working or Linear Regression in Tensorflow."
   ]
  },
  {
   "cell_type": "code",
   "execution_count": 2,
   "metadata": {
    "collapsed": true
   },
   "outputs": [],
   "source": [
    "# Load Dataset\n",
    "\n",
    "df = pd.read_csv('dataset/Insurance-dataset.csv')"
   ]
  },
  {
   "cell_type": "code",
   "execution_count": 4,
   "metadata": {
    "collapsed": false
   },
   "outputs": [
    {
     "data": {
      "text/html": [
       "<div>\n",
       "<style>\n",
       "    .dataframe thead tr:only-child th {\n",
       "        text-align: right;\n",
       "    }\n",
       "\n",
       "    .dataframe thead th {\n",
       "        text-align: left;\n",
       "    }\n",
       "\n",
       "    .dataframe tbody tr th {\n",
       "        vertical-align: top;\n",
       "    }\n",
       "</style>\n",
       "<table border=\"1\" class=\"dataframe\">\n",
       "  <thead>\n",
       "    <tr style=\"text-align: right;\">\n",
       "      <th></th>\n",
       "      <th>X</th>\n",
       "      <th>Y</th>\n",
       "    </tr>\n",
       "  </thead>\n",
       "  <tbody>\n",
       "    <tr>\n",
       "      <th>0</th>\n",
       "      <td>108</td>\n",
       "      <td>392.5</td>\n",
       "    </tr>\n",
       "    <tr>\n",
       "      <th>1</th>\n",
       "      <td>19</td>\n",
       "      <td>46.2</td>\n",
       "    </tr>\n",
       "    <tr>\n",
       "      <th>2</th>\n",
       "      <td>13</td>\n",
       "      <td>15.7</td>\n",
       "    </tr>\n",
       "    <tr>\n",
       "      <th>3</th>\n",
       "      <td>124</td>\n",
       "      <td>422.2</td>\n",
       "    </tr>\n",
       "    <tr>\n",
       "      <th>4</th>\n",
       "      <td>40</td>\n",
       "      <td>119.4</td>\n",
       "    </tr>\n",
       "  </tbody>\n",
       "</table>\n",
       "</div>"
      ],
      "text/plain": [
       "     X      Y\n",
       "0  108  392.5\n",
       "1   19   46.2\n",
       "2   13   15.7\n",
       "3  124  422.2\n",
       "4   40  119.4"
      ]
     },
     "execution_count": 4,
     "metadata": {},
     "output_type": "execute_result"
    }
   ],
   "source": [
    "# Let's have a look at the data\n",
    "\n",
    "df.head()"
   ]
  },
  {
   "cell_type": "code",
   "execution_count": 5,
   "metadata": {
    "collapsed": false
   },
   "outputs": [
    {
     "data": {
      "text/html": [
       "<div>\n",
       "<style>\n",
       "    .dataframe thead tr:only-child th {\n",
       "        text-align: right;\n",
       "    }\n",
       "\n",
       "    .dataframe thead th {\n",
       "        text-align: left;\n",
       "    }\n",
       "\n",
       "    .dataframe tbody tr th {\n",
       "        vertical-align: top;\n",
       "    }\n",
       "</style>\n",
       "<table border=\"1\" class=\"dataframe\">\n",
       "  <thead>\n",
       "    <tr style=\"text-align: right;\">\n",
       "      <th></th>\n",
       "      <th>X</th>\n",
       "      <th>Y</th>\n",
       "    </tr>\n",
       "  </thead>\n",
       "  <tbody>\n",
       "    <tr>\n",
       "      <th>count</th>\n",
       "      <td>63.000000</td>\n",
       "      <td>63.000000</td>\n",
       "    </tr>\n",
       "    <tr>\n",
       "      <th>mean</th>\n",
       "      <td>22.904762</td>\n",
       "      <td>98.187302</td>\n",
       "    </tr>\n",
       "    <tr>\n",
       "      <th>std</th>\n",
       "      <td>23.351946</td>\n",
       "      <td>87.327553</td>\n",
       "    </tr>\n",
       "    <tr>\n",
       "      <th>min</th>\n",
       "      <td>0.000000</td>\n",
       "      <td>0.000000</td>\n",
       "    </tr>\n",
       "    <tr>\n",
       "      <th>25%</th>\n",
       "      <td>7.500000</td>\n",
       "      <td>38.850000</td>\n",
       "    </tr>\n",
       "    <tr>\n",
       "      <th>50%</th>\n",
       "      <td>14.000000</td>\n",
       "      <td>73.400000</td>\n",
       "    </tr>\n",
       "    <tr>\n",
       "      <th>75%</th>\n",
       "      <td>29.000000</td>\n",
       "      <td>140.000000</td>\n",
       "    </tr>\n",
       "    <tr>\n",
       "      <th>max</th>\n",
       "      <td>124.000000</td>\n",
       "      <td>422.200000</td>\n",
       "    </tr>\n",
       "  </tbody>\n",
       "</table>\n",
       "</div>"
      ],
      "text/plain": [
       "                X           Y\n",
       "count   63.000000   63.000000\n",
       "mean    22.904762   98.187302\n",
       "std     23.351946   87.327553\n",
       "min      0.000000    0.000000\n",
       "25%      7.500000   38.850000\n",
       "50%     14.000000   73.400000\n",
       "75%     29.000000  140.000000\n",
       "max    124.000000  422.200000"
      ]
     },
     "execution_count": 5,
     "metadata": {},
     "output_type": "execute_result"
    }
   ],
   "source": [
    "# Checking if the dataset is balanced or not\n",
    "\n",
    "df.describe()"
   ]
  },
  {
   "cell_type": "markdown",
   "metadata": {},
   "source": [
    "It's all ok. So, what's the next step ?? Well, let's seperate the features and labels."
   ]
  },
  {
   "cell_type": "code",
   "execution_count": 6,
   "metadata": {
    "collapsed": true
   },
   "outputs": [],
   "source": [
    "# Training Data\n",
    "\n",
    "train_X = np.array(df['X'], dtype=np.float64)\n",
    "train_y = np.array(df['Y'], dtype=np.float64)"
   ]
  },
  {
   "cell_type": "markdown",
   "metadata": {},
   "source": [
    "### Step-3: Define Parameters"
   ]
  },
  {
   "cell_type": "code",
   "execution_count": 12,
   "metadata": {
    "collapsed": true
   },
   "outputs": [],
   "source": [
    "# Let's also define other Training Parameters\n",
    "\n",
    "learningRate = 0.001        # Learning Rate\n",
    "iterations = 5000           # Number of Training Iterations\n",
    "step_size = 50              # Will be used to display log in steps of 50\n",
    "n = train_X.shape[0]        # Number of Training Samples in a column. "
   ]
  },
  {
   "cell_type": "code",
   "execution_count": 13,
   "metadata": {
    "collapsed": true
   },
   "outputs": [],
   "source": [
    "# Assigning Placeholders for Input Data\n",
    "# A Placeholder is something in which we input our data at run time i.e. when we run our Tensorflow Session.\n",
    "# We will be inputting the train_X and train_y data at run time i.e. when we require it for computation.\n",
    "\n",
    "X = tf.placeholder('float')\n",
    "Y = tf.placeholder('float')"
   ]
  },
  {
   "cell_type": "markdown",
   "metadata": {},
   "source": [
    "Next step is to initialize \"Weight\" i.e. \"m\" and \"Bias\" i.e. \"b\". \n",
    "\n",
    "In Tensorflow, when we need to define a variable that has an initial value and we will train during the session to change that value, we define it as a \"Variable\".\n",
    "\n",
    "We know that the weights and bias are initialized to either zero or any random value, so we will do this in this tutorial.\n",
    "\n",
    "According to Tensorflow:\n",
    "\n",
    "> A variable maintains state in the graph across calls to run(). You add a variable to the graph by constructing an instance of the class Variable.\n",
    "The Variable() constructor requires an initial value for the variable, which can be a Tensor of any type and shape. The initial value defines the type and shape of the variable. After construction, the type and shape of the variable are fixed. The value can be changed using one of the assign methods."
   ]
  },
  {
   "cell_type": "code",
   "execution_count": 14,
   "metadata": {
    "collapsed": false
   },
   "outputs": [],
   "source": [
    "# Define Trainable Variables\n",
    "\n",
    "m = tf.Variable(np.random.randn(), name='weight')\n",
    "b = tf.Variable(np.random.randn(), name='bias')"
   ]
  },
  {
   "cell_type": "markdown",
   "metadata": {},
   "source": [
    "Well, now that we have defined all the important components, let's write the equation for the \"Hypothesis\" or \"Prediction\".\n",
    "\n",
    "### y_hat = m*X + b"
   ]
  },
  {
   "cell_type": "code",
   "execution_count": 15,
   "metadata": {
    "collapsed": true
   },
   "outputs": [],
   "source": [
    "# Hypothesis\n",
    "# y_hat = m*X + b\n",
    "\n",
    "y_hat = tf.add(tf.multiply(m,X),b)"
   ]
  },
  {
   "cell_type": "markdown",
   "metadata": {},
   "source": [
    "So, we have all the required equations in place. Let's write our Cost Function.\n",
    "\n",
    "\n",
    "### Step-4: Cost Function\n",
    "\n",
    "#### J = ((y_hat  -  y) ^ 2 ) / (2*n)\n"
   ]
  },
  {
   "cell_type": "code",
   "execution_count": 16,
   "metadata": {
    "collapsed": true
   },
   "outputs": [],
   "source": [
    "# Cost Function\n",
    "# J = (y_hat - y) ^ 2 / (2*n)\n",
    "\n",
    "def costFunction(y_hat, y, samples):\n",
    "    return tf.reduce_sum(tf.pow(y_hat-y,2))/(2*samples)"
   ]
  },
  {
   "cell_type": "markdown",
   "metadata": {},
   "source": [
    "So, next step is to define Gradient Descent. Let's do it.\n",
    "\n",
    "### Step-5: Gradient Descent"
   ]
  },
  {
   "cell_type": "code",
   "execution_count": 17,
   "metadata": {
    "collapsed": true
   },
   "outputs": [],
   "source": [
    "# Gradient Descent Optimizer\n",
    "# Inputs: Learning Rate and Cost from Cost Function\n",
    "# Aim: To minimize Cost Function\n",
    "\n",
    "# lr: Learning Rate\n",
    "# cost: Cost Function Output [J]\n",
    "\n",
    "def gradientDescent(lr, cost):\n",
    "    return tf.train.GradientDescentOptimizer(learning_rate=lr).minimize(cost)"
   ]
  },
  {
   "cell_type": "markdown",
   "metadata": {},
   "source": [
    "Well, now that we are all done, let's call our functions and do the training.\n",
    "\n",
    "### Step-6: Training the Model"
   ]
  },
  {
   "cell_type": "code",
   "execution_count": 19,
   "metadata": {
    "collapsed": false
   },
   "outputs": [],
   "source": [
    "# Mean Squared Error / Cost Function\n",
    "J = costFunction(y_hat, Y, n)\n",
    "\n",
    "# Gradient Descent Optimizer\n",
    "gd = gradientDescent(lr=learningRate, cost=J)"
   ]
  },
  {
   "cell_type": "markdown",
   "metadata": {},
   "source": [
    "Now that we have calles our functions, let's initialize our Tensorflow session and run it."
   ]
  },
  {
   "cell_type": "code",
   "execution_count": 20,
   "metadata": {
    "collapsed": true
   },
   "outputs": [],
   "source": [
    "# Initialize all Variables\n",
    "init = tf.global_variables_initializer()"
   ]
  },
  {
   "cell_type": "code",
   "execution_count": 41,
   "metadata": {
    "collapsed": false
   },
   "outputs": [
    {
     "name": "stdout",
     "output_type": "stream",
     "text": [
      "Starting Gradient Descent...\n",
      "\n",
      "Step:  0050 cost:  739.817565918\n",
      "Step:  0100 cost:  734.175476074\n",
      "Step:  0150 cost:  728.811523438\n",
      "Step:  0200 cost:  723.711914062\n",
      "Step:  0250 cost:  718.863830566\n",
      "Step:  0300 cost:  714.254638672\n",
      "Step:  0350 cost:  709.872741699\n",
      "Step:  0400 cost:  705.706909180\n",
      "Step:  0450 cost:  701.746398926\n",
      "Step:  0500 cost:  697.981140137\n",
      "Step:  0550 cost:  694.401550293\n",
      "Step:  0600 cost:  690.998413086\n",
      "Step:  0650 cost:  687.763000488\n",
      "Step:  0700 cost:  684.687072754\n",
      "Step:  0750 cost:  681.762817383\n",
      "Step:  0800 cost:  678.982788086\n",
      "Step:  0850 cost:  676.339782715\n",
      "Step:  0900 cost:  673.827026367\n",
      "Step:  0950 cost:  671.438171387\n",
      "Step:  1000 cost:  669.167175293\n",
      "Step:  1050 cost:  667.007934570\n",
      "Step:  1100 cost:  664.955383301\n",
      "Step:  1150 cost:  663.003784180\n",
      "Step:  1200 cost:  661.148559570\n",
      "Step:  1250 cost:  659.384826660\n",
      "Step:  1300 cost:  657.707885742\n",
      "Step:  1350 cost:  656.113647461\n",
      "Step:  1400 cost:  654.598083496\n",
      "Step:  1450 cost:  653.157287598\n",
      "Step:  1500 cost:  651.787475586\n",
      "Step:  1550 cost:  650.485107422\n",
      "Step:  1600 cost:  649.246948242\n",
      "Step:  1650 cost:  648.069946289\n",
      "Step:  1700 cost:  646.950866699\n",
      "Step:  1750 cost:  645.886962891\n",
      "Step:  1800 cost:  644.875610352\n",
      "Step:  1850 cost:  643.914062500\n",
      "Step:  1900 cost:  642.999877930\n",
      "Step:  1950 cost:  642.130676270\n",
      "Step:  2000 cost:  641.304565430\n",
      "Step:  2050 cost:  640.518981934\n",
      "Step:  2100 cost:  639.772277832\n",
      "Step:  2150 cost:  639.062194824\n",
      "Step:  2200 cost:  638.387268066\n",
      "Step:  2250 cost:  637.745544434\n",
      "Step:  2300 cost:  637.135559082\n",
      "Step:  2350 cost:  636.555541992\n",
      "Step:  2400 cost:  636.004089355\n",
      "Step:  2450 cost:  635.479919434\n",
      "Step:  2500 cost:  634.981567383\n",
      "Step:  2550 cost:  634.507812500\n",
      "Step:  2600 cost:  634.057312012\n",
      "Step:  2650 cost:  633.629089355\n",
      "Step:  2700 cost:  633.221923828\n",
      "Step:  2750 cost:  632.834960938\n",
      "Step:  2800 cost:  632.467041016\n",
      "Step:  2850 cost:  632.117126465\n",
      "Step:  2900 cost:  631.784606934\n",
      "Step:  2950 cost:  631.468322754\n",
      "Step:  3000 cost:  631.167785645\n",
      "Step:  3050 cost:  630.882019043\n",
      "Step:  3100 cost:  630.610351562\n",
      "Step:  3150 cost:  630.352050781\n",
      "Step:  3200 cost:  630.106506348\n",
      "Step:  3250 cost:  629.872985840\n",
      "Step:  3300 cost:  629.651123047\n",
      "Step:  3350 cost:  629.440124512\n",
      "Step:  3400 cost:  629.239379883\n",
      "Step:  3450 cost:  629.048706055\n",
      "Step:  3500 cost:  628.867431641\n",
      "Step:  3550 cost:  628.695068359\n",
      "Step:  3600 cost:  628.531250000\n",
      "Step:  3650 cost:  628.375366211\n",
      "Step:  3700 cost:  628.227294922\n",
      "Step:  3750 cost:  628.086425781\n",
      "Step:  3800 cost:  627.952636719\n",
      "Step:  3850 cost:  627.825317383\n",
      "Step:  3900 cost:  627.704284668\n",
      "Step:  3950 cost:  627.589355469\n",
      "Step:  4000 cost:  627.479919434\n",
      "Step:  4050 cost:  627.375976562\n",
      "Step:  4100 cost:  627.277160645\n",
      "Step:  4150 cost:  627.183166504\n",
      "Step:  4200 cost:  627.093872070\n",
      "Step:  4250 cost:  627.008911133\n",
      "Step:  4300 cost:  626.928222656\n",
      "Step:  4350 cost:  626.851379395\n",
      "Step:  4400 cost:  626.778381348\n",
      "Step:  4450 cost:  626.709045410\n",
      "Step:  4500 cost:  626.643066406\n",
      "Step:  4550 cost:  626.580383301\n",
      "Step:  4600 cost:  626.520690918\n",
      "Step:  4650 cost:  626.464111328\n",
      "Step:  4700 cost:  626.410217285\n",
      "Step:  4750 cost:  626.358947754\n",
      "Step:  4800 cost:  626.310180664\n",
      "Step:  4850 cost:  626.263916016\n",
      "Step:  4900 cost:  626.219848633\n",
      "Step:  4950 cost:  626.178039551\n",
      "Step:  5000 cost:  626.138244629\n",
      "\n",
      " Finished Optimization...\n",
      "\n",
      " Training Cost: 626.138  m: 3.45144  b: 18.2525 \n",
      "\n"
     ]
    },
    {
     "data": {
      "image/png": "[encoded data removed]",
      "text/plain": [
       "<matplotlib.figure.Figure at 0x27a5c81acc0>"
      ]
     },
     "metadata": {},
     "output_type": "display_data"
    }
   ],
   "source": [
    "# Launch TF Graph Session\n",
    "with tf.Session() as sess:\n",
    "    \n",
    "    # Initialize Session\n",
    "    sess.run(init)\n",
    "    \n",
    "    print('Starting Gradient Descent...\\n')\n",
    "\n",
    "    # Run Gradient Descent and Minimize Cost\n",
    "    for iters in range(iterations):\n",
    "        \n",
    "        # Do Gradient Descent to find out best values for \"m\" and \"b\"\n",
    "        sess.run(gd, feed_dict={X:train_X, Y:train_y})\n",
    "\n",
    "        # Print on steps to keep a tract of Cost with each Iteration Step\n",
    "        if (iters + 1) % step_size == 0:\n",
    "        \n",
    "            # Mapping training Values to Placeholders and  Calculate Cost\n",
    "            c = sess.run(J, feed_dict={X:train_X, Y:train_y})\n",
    "            print('Step: ', '%04d' % (iters + 1), 'cost: ', '{:.9f}'.format(c))\n",
    "    \n",
    "    \n",
    "    print('\\n Finished Optimization...')\n",
    "    \n",
    "    training_cost = sess.run(J, feed_dict={X: train_X, Y: train_y})\n",
    "    \n",
    "    print(\"\\n Training Cost:\", training_cost , \" m:\", sess.run(m), \" b:\", sess.run(b), '\\n')\n",
    "\n",
    "    \n",
    "    # Plot the Best Fit Line\n",
    "    fig,ax = plt.subplots(figsize=(10,8))\n",
    "    ax.plot(train_X, train_y, 'ro', label='Original data')    \n",
    "    ax.plot(train_X, sess.run(m) * train_X + sess.run(b), c='g', label='Fitted line')\n",
    "    ax.set_title('Linear Regression: Tensorflow')\n",
    "    plt.legend(loc='best')\n",
    "    "
   ]
  },
  {
   "cell_type": "markdown",
   "metadata": {},
   "source": [
    "#### I hope you like this tutorial. For any questions, comments, suggestions, please leave them below. Thanks :)"
   ]
  }
 ],
 "metadata": {
  "kernelspec": {
   "display_name": "Python 3",
   "language": "python",
   "name": "python3"
  },
  "language_info": {
   "codemirror_mode": {
    "name": "ipython",
    "version": 3
   },
   "file_extension": ".py",
   "mimetype": "text/x-python",
   "name": "python",
   "nbconvert_exporter": "python",
   "pygments_lexer": "ipython3",
   "version": "3.5.3"
  }
 },
 "nbformat": 4,
 "nbformat_minor": 2
}
