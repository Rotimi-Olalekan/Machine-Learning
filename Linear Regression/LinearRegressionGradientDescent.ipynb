{
 "cells": [
  {
   "cell_type": "markdown",
   "metadata": {},
   "source": [
    "## Linear Regression using Gradient Descent\n",
    "\n",
    "In this tutorial, we will be writing the code from scratch for Linear Regression using the Second Approach that we studied i.e. using Gradient Descent and then we will move on to plotting the \"Best Fit Line\".\n",
    "So, let's get started."
   ]
  },
  {
   "cell_type": "markdown",
   "metadata": {},
   "source": [
    "### Step-1 Import Dependencies\n",
    "\n",
    "Numpy: for numerical calculations\n",
    "\n",
    "Pandas: to load the data and modify it\n",
    "\n",
    "Matplotlib: to plot the data"
   ]
  },
  {
   "cell_type": "code",
   "execution_count": 7,
   "metadata": {
    "collapsed": true
   },
   "outputs": [],
   "source": [
    "# Import Dependencies\n",
    "import numpy as np\n",
    "import pandas as pd\n",
    "import matplotlib.pyplot as plt\n",
    "%matplotlib inline"
   ]
  },
  {
   "cell_type": "markdown",
   "metadata": {},
   "source": [
    "We discussed in the starting tutorials that a straight line is represented by the equation: \n",
    "##### y = mx + b\n",
    "where,\n",
    "#### m: Slope of the line\n",
    "#### b: bias\n",
    "\n",
    "\n",
    "### Step-2: Load Dataset\n",
    "\n",
    "Let's firstly load the dataset. We would like to see if the dataset is balanced or not, how many elements it has in each column, the min, max and mean values.\n",
    "\n",
    "Here, we will be using the same \"Swedish Insurance Dataset\" for this to make a comparison from the previous code.\n",
    "\n",
    "So, let's get started."
   ]
  },
  {
   "cell_type": "code",
   "execution_count": 8,
   "metadata": {
    "collapsed": false
   },
   "outputs": [],
   "source": [
    "# Load the data using Pandas\n",
    "\n",
    "df = pd.read_csv('dataset/Insurance-dataset.csv')"
   ]
  },
  {
   "cell_type": "code",
   "execution_count": 9,
   "metadata": {
    "collapsed": false
   },
   "outputs": [
    {
     "name": "stdout",
     "output_type": "stream",
     "text": [
      "     X      Y\n",
      "0  108  392.5\n",
      "1   19   46.2\n",
      "2   13   15.7\n",
      "3  124  422.2\n",
      "4   40  119.4\n"
     ]
    }
   ],
   "source": [
    "# Let's have a look at the data, what it looks like, how many data points are there in the data.\n",
    "\n",
    "print(df.head())"
   ]
  },
  {
   "cell_type": "markdown",
   "metadata": {},
   "source": [
    "Data is in the form of two columns, X and Y. X is the total number of claims and Y represents the claims in thousands of Swedish Kronor.\n",
    "\n",
    "Now, let's describe our data."
   ]
  },
  {
   "cell_type": "code",
   "execution_count": 10,
   "metadata": {
    "collapsed": false
   },
   "outputs": [
    {
     "data": {
      "text/html": [
       "<div>\n",
       "<table border=\"1\" class=\"dataframe\">\n",
       "  <thead>\n",
       "    <tr style=\"text-align: right;\">\n",
       "      <th></th>\n",
       "      <th>X</th>\n",
       "      <th>Y</th>\n",
       "    </tr>\n",
       "  </thead>\n",
       "  <tbody>\n",
       "    <tr>\n",
       "      <th>count</th>\n",
       "      <td>63.000000</td>\n",
       "      <td>63.000000</td>\n",
       "    </tr>\n",
       "    <tr>\n",
       "      <th>mean</th>\n",
       "      <td>22.904762</td>\n",
       "      <td>98.187302</td>\n",
       "    </tr>\n",
       "    <tr>\n",
       "      <th>std</th>\n",
       "      <td>23.351946</td>\n",
       "      <td>87.327553</td>\n",
       "    </tr>\n",
       "    <tr>\n",
       "      <th>min</th>\n",
       "      <td>0.000000</td>\n",
       "      <td>0.000000</td>\n",
       "    </tr>\n",
       "    <tr>\n",
       "      <th>25%</th>\n",
       "      <td>7.500000</td>\n",
       "      <td>38.850000</td>\n",
       "    </tr>\n",
       "    <tr>\n",
       "      <th>50%</th>\n",
       "      <td>14.000000</td>\n",
       "      <td>73.400000</td>\n",
       "    </tr>\n",
       "    <tr>\n",
       "      <th>75%</th>\n",
       "      <td>29.000000</td>\n",
       "      <td>140.000000</td>\n",
       "    </tr>\n",
       "    <tr>\n",
       "      <th>max</th>\n",
       "      <td>124.000000</td>\n",
       "      <td>422.200000</td>\n",
       "    </tr>\n",
       "  </tbody>\n",
       "</table>\n",
       "</div>"
      ],
      "text/plain": [
       "                X           Y\n",
       "count   63.000000   63.000000\n",
       "mean    22.904762   98.187302\n",
       "std     23.351946   87.327553\n",
       "min      0.000000    0.000000\n",
       "25%      7.500000   38.850000\n",
       "50%     14.000000   73.400000\n",
       "75%     29.000000  140.000000\n",
       "max    124.000000  422.200000"
      ]
     },
     "execution_count": 10,
     "metadata": {},
     "output_type": "execute_result"
    }
   ],
   "source": [
    "# Describe the Data\n",
    "\n",
    "df.describe()"
   ]
  },
  {
   "cell_type": "markdown",
   "metadata": {},
   "source": [
    "So, both the columns have equal number of data points. Hence, the dataset is stable. No need to modify the data. We also get the mean, max values in both columns etc.\n",
    "\n",
    "Now, let's put the data in the form to be input to the function we just defined above."
   ]
  },
  {
   "cell_type": "code",
   "execution_count": 11,
   "metadata": {
    "collapsed": true
   },
   "outputs": [],
   "source": [
    "# Load the data in the form to be input to the function for Best Fit Line\n",
    "\n",
    "X = np.array(df['X'], dtype=np.float64)\n",
    "y = np.array(df['Y'], dtype=np.float64)"
   ]
  },
  {
   "cell_type": "markdown",
   "metadata": {},
   "source": [
    "### Step-3: Scatter Plot of Input Data\n",
    "Before going any further, let's first plot our data and see if it's linear or not. Remember, we require linear data to plot a best fit line and neglect the Outliers.\n",
    "\n",
    "So, let's plot the data."
   ]
  },
  {
   "cell_type": "code",
   "execution_count": 12,
   "metadata": {
    "collapsed": false
   },
   "outputs": [
    {
     "data": {
      "text/plain": [
       "<matplotlib.text.Text at 0x83d1670>"
      ]
     },
     "execution_count": 12,
     "metadata": {},
     "output_type": "execute_result"
    },
    {
     "data": {
      "image/png": "[encoded data removed]",
      "text/plain": [
       "<matplotlib.figure.Figure at 0x5fb2250>"
      ]
     },
     "metadata": {},
     "output_type": "display_data"
    }
   ],
   "source": [
    "# Scatter Plot of the Input Data\n",
    "\n",
    "fig,ax = plt.subplots()\n",
    "ax.scatter(X,y)\n",
    "ax.set_xlabel('X')\n",
    "ax.set_ylabel('y')\n",
    "ax.set_title('Input Data Scatter Plot')"
   ]
  },
  {
   "cell_type": "markdown",
   "metadata": {},
   "source": [
    "From the above plot, we can see that the data is pretty linear except for 1 or 2 points. But that's ok. We can work with that.\n"
   ]
  },
  {
   "cell_type": "markdown",
   "metadata": {},
   "source": [
    "### Step-4: Cost Function\n",
    "\n",
    "Let's now define the Cost Function for Linear Regression. As we have seen in the last post for Gradient Descent for Linear Regression, we defined the Cost Function as follows:\n",
    "\n",
    "#### Cost Function [J] = (1/2n) * sum((y_hat-y)^2)\n",
    "\n",
    "where\n",
    "#### n: Total number of data points in the Input.\n",
    "#### y_hat: Predicted values of y using value of \"m\" and \"b\" obtained from Gradient Descent.\n",
    "#### y: Input data points with label \"y\"\n",
    "\n",
    "So, let's define this function."
   ]
  },
  {
   "cell_type": "code",
   "execution_count": 13,
   "metadata": {
    "collapsed": true
   },
   "outputs": [],
   "source": [
    "# Cost Function\n",
    "# Cost Function [J] = (1/2n) * (sum((y_hat-y)**2))\n",
    "# where,\n",
    "# n: total number of items in a column of dataset. i.e. 63 in this case.\n",
    "# len(X): Taking the length of column X gives us the value of \"n\"0\n",
    "\n",
    "def cost_Function(m,b,X,y):\n",
    "    return sum(((m*X + b) - y)**2)/(2*float(len(X)))\n"
   ]
  },
  {
   "cell_type": "markdown",
   "metadata": {},
   "source": [
    "Now, since we have the function to calculate the cost, the next step is ofcourse to get the values for \"m\" and \"b\". But, here, unlike the previous code, we'll be using Gradient Descent to iteratively go over the values and find the best value for \"m\" and \"b\" to get the \"Best Fit Line\".\n",
    "\n",
    "So, let's get started.\n",
    "\n",
    "What are the equations for Gradient Descent ??\n",
    "\n",
    "Well, we saw in the post that to find the values of \"m\" and \"b\" using Gradient Descent, we first need to find the gradient or the derivative of the cost function w.r.t m and b.\n",
    "\n",
    "So, the equation that we get are:\n",
    "\n",
    "#### dJ/dm = (1/n) * X * ((m*X+b)-y)\n",
    "\n",
    "#### dJ/db = (1/n) * ((m*X+b)-y) * 1\n",
    "\n",
    "After this, we update the values of \"m\" and \"b\" simultaneously. i.e. firstly we get the derivative values and then update \"m\" and \"b\" at once as:\n",
    "\n",
    "#### m = m - alpha*(dJ/dm)\n",
    "\n",
    "#### b = b - alpha*(dJ/db)\n",
    "\n",
    "where,\n",
    "\n",
    "#### alpha: Learning Rate\n",
    "\n",
    "Finding these values is fine. But we are just missing one small part for performing Gradient Descent. We cannot find the perfect value for \"m\" and \"b\" in a single iteration. It is a gradual process. Remember in the plot of Gradient Descent when we try to move down the slope of the Convex Function.\n",
    "\n",
    "To reach the bottom/minima, we will require more than one iteration. Hence, we iterate over the equations defined above multiple times till the error cannot be reduced further.\n",
    "\n",
    "Now, after all these equations, it's time to implement them."
   ]
  },
  {
   "cell_type": "code",
   "execution_count": 29,
   "metadata": {
    "collapsed": true
   },
   "outputs": [],
   "source": [
    "# Gradient Descent\n",
    "# X,y: Input Data Points\n",
    "# m,b: Initial Slope and Bias\n",
    "# alpha: Learning Rate\n",
    "# iters: Number of Iterations for which we need to run Gradient Descent.\n",
    "\n",
    "def gradientDescent(X,y,m,b,alpha,iters):\n",
    "    # Initialize Values of Gradients\n",
    "    gradient_m = 0\n",
    "    gradient_b = 0\n",
    "    # n: Number of items in a row\n",
    "    n = float(len(X))\n",
    "    a = 0\n",
    "    # Array to store values of error for analysis\n",
    "    hist = []\n",
    "    # Perform Gradient Descent for iters\n",
    "    for _ in range(iters):\n",
    "        # Perform Gradient Descent\n",
    "        for i in range(len(X)):\n",
    "            gradient_m = (1/n) * X[i] * ((m*X[i] + b) - y[i])\n",
    "            gradient_b = (1/n) * ((m*X[i] + b) - y[i])\n",
    "        m = m - (alpha*gradient_m)\n",
    "        b = b - (alpha*gradient_b)\n",
    "        # Calculate the change in error with new values of \"m\" and \"b\"\n",
    "        a = cost_Function(m,b,X,y)\n",
    "        hist.append(a)\n",
    "    return [m,b,hist]"
   ]
  },
  {
   "cell_type": "markdown",
   "metadata": {},
   "source": [
    "So, now that we have performed the Gradient Descent, let's now run the code and provide initial values."
   ]
  },
  {
   "cell_type": "code",
   "execution_count": 30,
   "metadata": {
    "collapsed": false
   },
   "outputs": [
    {
     "name": "stdout",
     "output_type": "stream",
     "text": [
      "Starting gradient descent...\n"
     ]
    }
   ],
   "source": [
    "# Learning Rate\n",
    "lr = 0.0001\n",
    "\n",
    "# Initial Values of \"m\" and \"b\"\n",
    "initial_m = 0\n",
    "initial_b = 0\n",
    "\n",
    "# Number of Iterations\n",
    "iterations = 1000\n",
    "\n",
    "print(\"Starting gradient descent...\")"
   ]
  },
  {
   "cell_type": "code",
   "execution_count": 31,
   "metadata": {
    "collapsed": false
   },
   "outputs": [
    {
     "name": "stdout",
     "output_type": "stream",
     "text": [
      "Initial Error at m = 0 and b = 0 is error = 8572.899206349208\n"
     ]
    }
   ],
   "source": [
    "# Check error with initial Values of m and b\n",
    "\n",
    "print(\"Initial Error at m = {0} and b = {1} is error = {2}\".format(initial_m, initial_b, cost_Function(initial_m, initial_b, X, y)))"
   ]
  },
  {
   "cell_type": "code",
   "execution_count": 32,
   "metadata": {
    "collapsed": false
   },
   "outputs": [],
   "source": [
    "# Run Gradient Descent to get new values for \"m\" and \"b\"\n",
    "\n",
    "[m,b,hist] = gradientDescent(X, y, initial_m, initial_b, lr, iterations)"
   ]
  },
  {
   "cell_type": "code",
   "execution_count": 34,
   "metadata": {
    "collapsed": false
   },
   "outputs": [
    {
     "name": "stdout",
     "output_type": "stream",
     "text": [
      "Values obtained after 1000 iterations are m = 4.743684676449634 and b = 0.18244941063267792\n"
     ]
    }
   ],
   "source": [
    "# New Values of \"m\" and \"b\" after Gradient Descent\n",
    "\n",
    "print('Values obtained after {0} iterations are m = {1} and b = {2}'.format(iterations,m,b))"
   ]
  },
  {
   "cell_type": "markdown",
   "metadata": {},
   "source": [
    "Now that we have obtained the new values for \"m\" and \"b\", it's time to plot the \"Best Fit Line\" and see how well it fits the data. To do that, we first need to get the values for y_hat.\n",
    "\n",
    "#### y_hat = m*X + b\n",
    "\n",
    "where \"m\" and \"b\" are the new values obtained after performing Gradient Descent."
   ]
  },
  {
   "cell_type": "code",
   "execution_count": 35,
   "metadata": {
    "collapsed": false
   },
   "outputs": [
    {
     "name": "stdout",
     "output_type": "stream",
     "text": [
      "y_hat:  [  5.12500394e+02   9.03124583e+01   6.18503502e+01   5.88399349e+02\n",
      "   1.89929836e+02   2.70572476e+02   1.09287197e+02   6.65940349e+01\n",
      "   2.13648260e+02   4.76192962e+01   2.39008728e+01   2.27879314e+02\n",
      "   5.23629809e+01   1.09287197e+02   3.33882421e+01   9.66981876e+00\n",
      "   1.14030882e+02   2.86445575e+01   1.44135034e+01   1.09287197e+02\n",
      "   2.86445575e+01   4.28756115e+01   4.28756115e+01   1.44135034e+01\n",
      "   1.37749305e+02   3.33882421e+01   1.91571881e+01   9.50561429e+01\n",
      "   3.33882421e+01   1.91571881e+01   1.82449411e-01   1.18774566e+02\n",
      "   2.86445575e+01   2.39008728e+01   1.04543512e+02   5.23629809e+01\n",
      "   2.89547215e+02   5.71066655e+01   1.91571881e+01   7.60814042e+01\n",
      "   6.18503502e+01   2.84803530e+02   1.94673521e+02   1.75698782e+02\n",
      "   2.61085107e+02   1.94673521e+02   5.23629809e+01   1.28261936e+02\n",
      "   3.81319268e+01   1.44135034e+01   8.08250889e+01   6.18503502e+01\n",
      "   6.18503502e+01   7.13377196e+01   3.81319268e+01   1.37749305e+02\n",
      "   1.42492990e+02   1.14030882e+02   4.28756115e+01   1.47236674e+02\n",
      "   6.65940349e+01   2.51597737e+02   1.23518251e+02]\n"
     ]
    }
   ],
   "source": [
    "# Calculating y_hat\n",
    "\n",
    "y_hat = (m*X + b)\n",
    "\n",
    "print('y_hat: ',y_hat)"
   ]
  },
  {
   "cell_type": "code",
   "execution_count": 45,
   "metadata": {
    "collapsed": false
   },
   "outputs": [
    {
     "data": {
      "text/plain": [
       "<matplotlib.text.Text at 0x84ac710>"
      ]
     },
     "execution_count": 45,
     "metadata": {},
     "output_type": "execute_result"
    },
    {
     "data": {
      "image/png": "[encoded data removed]",
      "text/plain": [
       "<matplotlib.figure.Figure at 0x632c550>"
      ]
     },
     "metadata": {},
     "output_type": "display_data"
    }
   ],
   "source": [
    "# Scatter Plot of the Input Data and Plot for Best Fit Line\n",
    "\n",
    "fig,ax = plt.subplots()\n",
    "ax.scatter(X,y,c='r')\n",
    "ax.plot(X,y_hat,c='y')\n",
    "ax.set_xlabel('X')\n",
    "ax.set_ylabel('y')\n",
    "ax.set_title('Best Fit Line Plot')"
   ]
  },
  {
   "cell_type": "markdown",
   "metadata": {},
   "source": [
    "As we can clearly see that this line passes through most of the data points and is a Best Fit Line. Now, let's do our second test on this. let's take an arbitrary input and see if we are able to get a value for that."
   ]
  },
  {
   "cell_type": "code",
   "execution_count": 39,
   "metadata": {
    "collapsed": false
   },
   "outputs": [
    {
     "name": "stdout",
     "output_type": "stream",
     "text": [
      "predict_y:  360.702484821\n"
     ]
    }
   ],
   "source": [
    "# Testing using arbitrary Input Value\n",
    "\n",
    "predict_X = 76\n",
    "predict_y = (m*predict_X + b)\n",
    "\n",
    "print('predict_y: ',predict_y)"
   ]
  },
  {
   "cell_type": "code",
   "execution_count": 41,
   "metadata": {
    "collapsed": false
   },
   "outputs": [
    {
     "data": {
      "text/plain": [
       "<matplotlib.text.Text at 0x1583570>"
      ]
     },
     "execution_count": 41,
     "metadata": {},
     "output_type": "execute_result"
    },
    {
     "data": {
      "image/png": "[encoded data removed]",
      "text/plain": [
       "<matplotlib.figure.Figure at 0x15072f0>"
      ]
     },
     "metadata": {},
     "output_type": "display_data"
    }
   ],
   "source": [
    "# Scatter Plot, Best Fit Line and Prediction Plot\n",
    "\n",
    "fig,ax = plt.subplots()\n",
    "ax.scatter(X,y)\n",
    "ax.scatter(predict_X,predict_y,c='r',s=100)\n",
    "ax.plot(X,y_hat,c='y')\n",
    "ax.set_xlabel('X')\n",
    "ax.set_ylabel('y')\n",
    "ax.set_title('Prediction Plot')"
   ]
  },
  {
   "cell_type": "markdown",
   "metadata": {},
   "source": [
    "Well, we can see that the line goes through the point or in other words, point lies on the line and that is what was the aim to get a Best Fit Line.\n",
    "\n",
    "Great work till here. But let's also see how the error goes down !! Remember we used an extra variable and stored the cost_function values into an array. These values show how Gradient Descent moves down reducing the Cost Function.\n",
    "\n",
    "So, let's plot it."
   ]
  },
  {
   "cell_type": "code",
   "execution_count": 44,
   "metadata": {
    "collapsed": false
   },
   "outputs": [
    {
     "data": {
      "text/plain": [
       "<matplotlib.text.Text at 0x630b650>"
      ]
     },
     "execution_count": 44,
     "metadata": {},
     "output_type": "execute_result"
    },
    {
     "data": {
      "image/png": "[encoded data removed]",
      "text/plain": [
       "<matplotlib.figure.Figure at 0x15b1fd0>"
      ]
     },
     "metadata": {},
     "output_type": "display_data"
    }
   ],
   "source": [
    "# Error Plot\n",
    "\n",
    "fig,ax = plt.subplots()\n",
    "ax.plot(hist)\n",
    "ax.set_title('Cost Function Over Time')"
   ]
  },
  {
   "cell_type": "markdown",
   "metadata": {},
   "source": [
    "As we can see that the Cost Function values decrease over time and near about 700, it starts to get saturated. Hence, even if we run the Gradient Descent Optimizer for near about 700 iterations, we will get the same results."
   ]
  },
  {
   "cell_type": "markdown",
   "metadata": {},
   "source": [
    "Well, this ends our coding section for this post."
   ]
  }
 ],
 "metadata": {
  "kernelspec": {
   "display_name": "Python 3",
   "language": "python",
   "name": "python3"
  },
  "language_info": {
   "codemirror_mode": {
    "name": "ipython",
    "version": 3
   },
   "file_extension": ".py",
   "mimetype": "text/x-python",
   "name": "python",
   "nbconvert_exporter": "python",
   "pygments_lexer": "ipython3",
   "version": "3.5.2"
  }
 },
 "nbformat": 4,
 "nbformat_minor": 2
}
